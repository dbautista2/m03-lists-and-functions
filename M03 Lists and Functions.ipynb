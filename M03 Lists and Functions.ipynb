{
 "cells": [
  {
   "cell_type": "code",
   "execution_count": 7,
   "outputs": [],
   "source": [
    "# 7. 4\n",
    "things = ['mozzarella', 'cinderella', 'salmonella']"
   ],
   "metadata": {
    "collapsed": false,
    "ExecuteTime": {
     "end_time": "2023-11-10T17:00:00.721377Z",
     "start_time": "2023-11-10T17:00:00.718377300Z"
    }
   },
   "id": "9ef5221c2d9442e"
  },
  {
   "cell_type": "code",
   "execution_count": null,
   "outputs": [],
   "source": [
    "# 7.5\n",
    "things = ['mozzarella', 'cinderella', 'salmonella']\n",
    "print(things[1].capitalize())\n",
    "print(things)\n",
    "# No, it did not change the element, because things[1].capitalize() is only capitalizing in the print function, not actually changing the element in the list"
   ],
   "metadata": {
    "collapsed": false,
    "is_executing": true
   },
   "id": "e40c829975ec630b"
  },
  {
   "cell_type": "code",
   "execution_count": null,
   "outputs": [],
   "source": [
    "# 7.6\n",
    "things = ['mozzarella', 'cinderella', 'salmonella']\n",
    "things[0] = things[0].upper()\n",
    "print(things)"
   ],
   "metadata": {
    "collapsed": false,
    "is_executing": true
   },
   "id": "b6291ef005c9d6da"
  },
  {
   "cell_type": "code",
   "execution_count": 17,
   "outputs": [
    {
     "name": "stdout",
     "output_type": "stream",
     "text": [
      "['mozzarella', 'cinderella']\n"
     ]
    }
   ],
   "source": [
    "# 7.7\n",
    "things = ['mozzarella', 'cinderella', 'salmonella']\n",
    "things.pop()\n",
    "print(things)"
   ],
   "metadata": {
    "collapsed": false,
    "ExecuteTime": {
     "end_time": "2023-11-08T17:11:26.386406600Z",
     "start_time": "2023-11-08T17:11:26.376406900Z"
    }
   },
   "id": "3d231cc8769b53bd"
  },
  {
   "cell_type": "code",
   "execution_count": 2,
   "outputs": [
    {
     "name": "stdout",
     "output_type": "stream",
     "text": [
      "['Harry', 'Ron', 'Hermione']\n"
     ]
    }
   ],
   "source": [
    "# 9.1\n",
    "def good():\n",
    "    return ['Harry', 'Ron', 'Hermione']\n",
    "\n",
    "print(good())"
   ],
   "metadata": {
    "collapsed": false,
    "ExecuteTime": {
     "end_time": "2023-11-09T20:16:29.418723Z",
     "start_time": "2023-11-09T20:16:29.414222800Z"
    }
   },
   "id": "f9976084e477e3da"
  },
  {
   "cell_type": "code",
   "execution_count": 6,
   "outputs": [
    {
     "name": "stdout",
     "output_type": "stream",
     "text": [
      "The third odd number is 5\n"
     ]
    }
   ],
   "source": [
    "# 9.2\n",
    "def get_odds():\n",
    "    for number in range(1, 10, 2):\n",
    "        yield number\n",
    "\n",
    "count = 1\n",
    "for number in get_odds():\n",
    "    if count == 3:\n",
    "        print('The third odd number is', number)\n",
    "        break\n",
    "    count += 1"
   ],
   "metadata": {
    "collapsed": false,
    "ExecuteTime": {
     "end_time": "2023-11-10T16:59:54.525569300Z",
     "start_time": "2023-11-10T16:59:54.514072800Z"
    }
   },
   "id": "a58e6c7e1f17696d"
  }
 ],
 "metadata": {
  "kernelspec": {
   "display_name": "Python 3",
   "language": "python",
   "name": "python3"
  },
  "language_info": {
   "codemirror_mode": {
    "name": "ipython",
    "version": 2
   },
   "file_extension": ".py",
   "mimetype": "text/x-python",
   "name": "python",
   "nbconvert_exporter": "python",
   "pygments_lexer": "ipython2",
   "version": "2.7.6"
  }
 },
 "nbformat": 4,
 "nbformat_minor": 5
}
